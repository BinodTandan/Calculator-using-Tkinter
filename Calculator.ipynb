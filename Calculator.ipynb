{
 "cells": [
  {
   "cell_type": "code",
   "execution_count": 1,
   "metadata": {},
   "outputs": [],
   "source": [
    "from tkinter import *\n",
    "root =Tk()\n",
    "root.title(\"Calculator\")\n",
    "label1 = Label(root, text=\"First Number\")\n",
    "label2 = Label(root, text=\"Second Number\")\n",
    "label3 = Label(root, text= \"Result\")\n",
    "entry1= Entry(root)\n",
    "entry2= Entry(root)\n",
    "entry3= Entry(root)\n",
    "label1.grid(row=0, column=0)\n",
    "label2.grid(row=1, column=0)\n",
    "label3.grid(row=2, column=0)\n",
    "entry1.grid(row=0, column=1)\n",
    "entry2.grid(row=1, column=1)\n",
    "entry3.grid(row=2, column=1)\n",
    "def add():\n",
    "    entry3.delete(0, END)\n",
    "    result = int(entry1.get()) + int(entry2.get())\n",
    "    entry3.insert(0, result)\n",
    "def sub():\n",
    "    entry3.delete(0, END)\n",
    "    result = float(entry1.get()) - float(entry2.get())\n",
    "    entry3.insert(0, result)\n",
    "def mul():\n",
    "    entry3.delete(0, END)\n",
    "    result = int(entry1.get()) * int(entry2.get())\n",
    "    entry3.insert(0, result)\n",
    "def div():\n",
    "    entry3.delete(0, END)\n",
    "    result = int(entry1.get()) / int(entry2.get())\n",
    "    entry3.insert(0, result)    \n",
    "button1 = Button(root, text=\"ADD\", command = add)\n",
    "button2 = Button(root, text=\"SUB\", command = sub)\n",
    "button3 = Button(root, text=\"MUL\", command = mul)\n",
    "button4 = Button(root, text=\"DIV\", command = div)\n",
    "button1.grid(row= 3, column=0)\n",
    "button2.grid(row= 3, column=1)\n",
    "button3.grid(row= 4, column=0)\n",
    "button4.grid(row= 4, column=1)\n",
    "root.mainloop()"
   ]
  },
  {
   "cell_type": "code",
   "execution_count": null,
   "metadata": {},
   "outputs": [],
   "source": []
  }
 ],
 "metadata": {
  "kernelspec": {
   "display_name": "Python 3",
   "language": "python",
   "name": "python3"
  },
  "language_info": {
   "codemirror_mode": {
    "name": "ipython",
    "version": 3
   },
   "file_extension": ".py",
   "mimetype": "text/x-python",
   "name": "python",
   "nbconvert_exporter": "python",
   "pygments_lexer": "ipython3",
   "version": "3.7.4"
  }
 },
 "nbformat": 4,
 "nbformat_minor": 2
}
